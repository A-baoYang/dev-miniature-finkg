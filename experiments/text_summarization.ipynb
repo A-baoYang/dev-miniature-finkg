{
 "cells": [
  {
   "cell_type": "markdown",
   "metadata": {},
   "source": [
    "- 說明目前三元組抽取相當於在篩選有完整主詞、受詞、動詞並包含時間或地點其中一項角色的句子，和傳統的序列標注式的文本摘要類似；我們將三元組去重複後接出來的其實也是文本做完摘要的一種（相當於之前提過的 給句子0/1標籤或排序句子 top-k 任務）\n",
    "- 後續出現了 Seq2Seq 、啟發式標註\n",
    "- 最近期經典論文是 text summarization using pretrained encoders\n"
   ]
  }
 ],
 "metadata": {
  "interpreter": {
   "hash": "e44d2d90e1edf4c72f078a178dd9206e1054631aeac809521c51e9816f8eeb2e"
  },
  "kernelspec": {
   "display_name": "Python 3.8.13 (conda)",
   "language": "python",
   "name": "python3"
  },
  "language_info": {
   "name": "python",
   "version": "3.8.13"
  },
  "orig_nbformat": 4
 },
 "nbformat": 4,
 "nbformat_minor": 2
}
