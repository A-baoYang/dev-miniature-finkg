{
 "cells": [
  {
   "cell_type": "markdown",
   "metadata": {},
   "source": [
    "## Octoparse API 串接示範\n",
    "使用 `KGBuilder` 從 Octoparse 取得爬蟲任務的爬取結果\n",
    "\n",
    "1. 身份驗證\n",
    "2. 指定任務組別名稱\n",
    "3. 取得指定任務及長度的資料"
   ]
  },
  {
   "cell_type": "markdown",
   "metadata": {},
   "source": [
    "---"
   ]
  },
  {
   "cell_type": "markdown",
   "metadata": {},
   "source": [
    "### (0) 初始化 KGBuilder\n",
    "載入初始 config 參數、octoparse 串接模組\n"
   ]
  },
  {
   "cell_type": "code",
   "execution_count": 7,
   "metadata": {},
   "outputs": [],
   "source": [
    "from glob import glob\n",
    "from IPython.core.interactiveshell import InteractiveShell\n",
    "InteractiveShell.ast_node_interactivity = \"all\"\n",
    "import os\n",
    "import pandas as pd\n",
    "from tqdm import tqdm\n",
    "from KGBuilder.config import *\n",
    "from KGBuilder import octoparse\n",
    "from KGBuilder.data_utils import colclean_time"
   ]
  },
  {
   "cell_type": "markdown",
   "metadata": {},
   "source": [
    "初始參數如下：\n",
    "\n",
    "其中，我們允許用戶在 `account_args` 修改 Octoparse 的登入帳密，當帳戶資訊改變時，無需改動模組依然可照常使用"
   ]
  },
  {
   "cell_type": "code",
   "execution_count": null,
   "metadata": {},
   "outputs": [],
   "source": []
  },
  {
   "cell_type": "code",
   "execution_count": 9,
   "metadata": {},
   "outputs": [
    {
     "data": {
      "text/plain": [
       "{'root_dir': '/home/abao.yang@cathayholdings.com.tw/forDevTest/test_finKG',\n",
       " 'article_dir': 'article_data',\n",
       " 'model_dir': 'model_data',\n",
       " 'is_china': 'False',\n",
       " 'num_classes': 8,\n",
       " 'max_len': 128,\n",
       " 'start_date': '2022-05-09',\n",
       " 'end_date': '2022-05-10',\n",
       " 'timestamp': '20220613'}"
      ]
     },
     "execution_count": 9,
     "metadata": {},
     "output_type": "execute_result"
    },
    {
     "data": {
      "text/plain": [
       "{'service_account_key': '/home/abao.yang@cathayholdings.com.tw/forResearch/data/gcs/dst-dev2021-688422080376.json',\n",
       " 'gcs_bucket_name': 'dst-financial-knowledge-graph',\n",
       " 'gcs_dict_directory': 'dictionary',\n",
       " 'gcs_model_directory': 'kgbuilder_models',\n",
       " 'local_model_dir_baseBert': 'bert-base-chinese',\n",
       " 'local_model_dir_FiNER': 'FiNER',\n",
       " 'local_model_dir_FinRE': 'FinRE'}"
      ]
     },
     "execution_count": 9,
     "metadata": {},
     "output_type": "execute_result"
    },
    {
     "data": {
      "text/plain": [
       "{'article_filename': 'AllNews-20220613.csv',\n",
       " 'cleansed_filename': 'cleansed-AllNews-20220613.csv',\n",
       " 'module_EventTri_input_filename': 'event_triplets-input-20220613.json',\n",
       " 'module_EventTri_output_filename': 'event_triplets-output-20220613.json',\n",
       " 'module_FiNER_input_filename': 'event_triplets-output-20220613.json',\n",
       " 'module_FiNER_output_filename': 'entity_extraction-output-20220613.json',\n",
       " 'module_FinRE_input_filename': 'finre-input-20220613.json',\n",
       " 'module_FinRE_output_filename': 'finre-output-20220613.json',\n",
       " 'companylist_filename': 'semiconductor_companies_tpex.txt'}"
      ]
     },
     "execution_count": 9,
     "metadata": {},
     "output_type": "execute_result"
    },
    {
     "data": {
      "text/plain": [
       "{'china_octoparse_username': 'cathayholdingsct',\n",
       " 'china_octoparse_password': 'Jj70827406',\n",
       " 'octoparse_username': 'cathaydst',\n",
       " 'octoparse_password': 'Cathaydst@2789',\n",
       " 'neo4j_hostname': '10.0.10.6',\n",
       " 'neo4j_username': 'neo4j',\n",
       " 'neo4j_password': 'neo4jj',\n",
       " 'neo4j_database': 'eventkg0610'}"
      ]
     },
     "execution_count": 9,
     "metadata": {},
     "output_type": "execute_result"
    },
    {
     "data": {
      "text/plain": [
       "{'classes_schema': 'all_8_schemas.json',\n",
       " 'predicted_filename': 'FinKG-company_relations-20220613'}"
      ]
     },
     "execution_count": 9,
     "metadata": {},
     "output_type": "execute_result"
    },
    {
     "data": {
      "text/plain": [
       "'cathaydst'"
      ]
     },
     "execution_count": 9,
     "metadata": {},
     "output_type": "execute_result"
    },
    {
     "data": {
      "text/plain": [
       "'Cathaydst@2789'"
      ]
     },
     "execution_count": 9,
     "metadata": {},
     "output_type": "execute_result"
    }
   ],
   "source": [
    "args\n",
    "gcs_args\n",
    "data_args\n",
    "account_args\n",
    "model_args\n",
    "\n",
    "account_args[\"octoparse_username\"]\n",
    "account_args[\"octoparse_password\"]"
   ]
  },
  {
   "cell_type": "markdown",
   "metadata": {},
   "source": [
    "#### (1) 身份驗證\n",
    "\n",
    "模組會自動套用上一步 config 檔中的帳密資訊\n",
    "- `account_args[\"octoparse_username\"]`\n",
    "- `account_args[\"octoparse_password\"]`\n",
    "\n",
    "\n",
    "其中，DST 有採購 國際版 & 大陸版 Octoparse，我們使用 `is_china` 參數指定要取得哪個版本的 API Token\n",
    "- `False`: 國際版\n",
    "- `True`: 大陸版"
   ]
  },
  {
   "cell_type": "code",
   "execution_count": null,
   "metadata": {},
   "outputs": [],
   "source": [
    "# Octoparse API 身份驗證\n",
    "\n",
    "base_url, username, password = octoparse.loginInfo(is_china=False)\n",
    "print(base_url, username, password)\n",
    "api_headers = octoparse.getAccessToken(base_url, username, password)\n",
    "print(api_headers)\n"
   ]
  },
  {
   "cell_type": "markdown",
   "metadata": {},
   "source": [
    "#### (2) 指定任務組別名稱\n",
    "\n",
    "列出所有 group name、選擇要抓取的任務所在的群組"
   ]
  },
  {
   "cell_type": "code",
   "execution_count": null,
   "metadata": {},
   "outputs": [],
   "source": [
    "# 取得 Octoparse tasks from \"MyGroup\"\n",
    "\n",
    "group_dict = octoparse.getTaskGroup(base_url, api_headers)\n",
    "group_dict = {g[\"taskGroupName\"]: g[\"taskGroupId\"] for g in group_dict}\n",
    "tasks = octoparse.getTaskId(\n",
    "    base_url, api_headers, taskGroupId=str(group_dict[\"MyGroup\"])\n",
    ")\n",
    "print(tasks)\n"
   ]
  },
  {
   "cell_type": "markdown",
   "metadata": {},
   "source": [
    "#### (3) 取得指定任務及長度的資料\n",
    "\n",
    "\n",
    "1. 從列出的 task name 中選取要抓取的，指定到 `runFetchTask` 中的 `task` 參數，其中 `task` 是一個 `dict` ，包含 `taskName` 及 `taskId`\n",
    "2. 在 `runFetchTask` 中可以指定以下參數：\n",
    "   - `task`:  任務資訊 `{\"taskName\": \"...\", \"taskId\": \"...\"}`\n",
    "   - `offset_history`: 從哪一筆開始抓取\n",
    "   - `size`: 每次獲取幾筆(Octoparse 的上限是1000)\n",
    "   - `fetch_len`:  抓取資料的筆數\n",
    "     - all: 全部抓取\n",
    "     - 其他數字: 只抓幾筆"
   ]
  },
  {
   "cell_type": "code",
   "execution_count": null,
   "metadata": {},
   "outputs": [],
   "source": [
    "task = tasks[0]\n",
    "\n",
    "export_data = octoparse.runFetchTask(\n",
    "    base_url, api_headers, task, \n",
    "    offset_history=0, size=500, fetch_len=\"all\"\n",
    ")\n",
    "\n",
    "export_data\n"
   ]
  },
  {
   "cell_type": "code",
   "execution_count": null,
   "metadata": {},
   "outputs": [],
   "source": []
  }
 ],
 "metadata": {
  "interpreter": {
   "hash": "bab63c928d38a9228385d19ae2a5725cfa317b3fb32051b4a4dbc41f78875585"
  },
  "kernelspec": {
   "display_name": "Python 3.8.12 ('test_finkg_1': conda)",
   "language": "python",
   "name": "python3"
  },
  "language_info": {
   "codemirror_mode": {
    "name": "ipython",
    "version": 3
   },
   "file_extension": ".py",
   "mimetype": "text/x-python",
   "name": "python",
   "nbconvert_exporter": "python",
   "pygments_lexer": "ipython3",
   "version": "3.8.12"
  },
  "orig_nbformat": 4
 },
 "nbformat": 4,
 "nbformat_minor": 2
}
