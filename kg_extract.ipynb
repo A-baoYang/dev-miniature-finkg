{
 "cells": [
  {
   "cell_type": "markdown",
   "metadata": {},
   "source": [
    "## `KGBuilder` 知識抽取範例\n",
    "示範使用 `KGBuilder` 對文章進行資訊抽取\n",
    "1. 文章前處理\n",
    "2. 事件三元組抽取\n",
    "3. 實體抽取"
   ]
  },
  {
   "cell_type": "markdown",
   "metadata": {},
   "source": [
    "---"
   ]
  },
  {
   "cell_type": "markdown",
   "metadata": {},
   "source": [
    "#### (1) 文章前處理\n",
    "[Input] \n",
    "- format: `.csv`\n",
    "- 可指定想要跑前處理的 `.csv` 檔 \n",
    "  - headers: `title`, `url`, `meta_keywords`, `crawling_time`, `article`, `publish_time`, `media`\n",
    "\n",
    "[Output]\n",
    "- format: `.csv`\n",
    "- 前處理過後的新聞會以 `.csv` 儲存至 `./article_data/` 底下\n",
    "- 檔名會加入 `cleansed-` 前綴、當天日期後綴\n",
    "\n",
    "![](https://i.imgur.com/O58RJSn.png)"
   ]
  },
  {
   "cell_type": "code",
   "execution_count": 22,
   "metadata": {},
   "outputs": [],
   "source": [
    "import os\n",
    "os.environ[\"CUDA_VISIBLE_DEVICES\"] = \"0,1\"\n",
    "import warnings\n",
    "warnings.filterwarnings(\"ignore\")\n",
    "\n",
    "from KGBuilder.config import *\n",
    "from KGBuilder import data_utils"
   ]
  },
  {
   "cell_type": "code",
   "execution_count": 7,
   "metadata": {},
   "outputs": [
    {
     "name": "stdout",
     "output_type": "stream",
     "text": [
      "====== Load Data ======\n",
      "title            0\n",
      "url              0\n",
      "meta_keywords    4\n",
      "crawling_time    0\n",
      "article          0\n",
      "publish_time     0\n",
      "media            0\n",
      "dtype: int64\n",
      "Shape of article data: (161, 7)\n",
      "====== Start Preprocessing ======\n",
      "Article data cleansed. \n",
      "                                     title  \\\n",
      "0   南帝第一季合併獲利5.78億元，每股稅後1.17元 - MoneyDJ理財網   \n",
      "1        台端董事會決議解除經理人競業禁止之限制案 - MoneyDJ理財網   \n",
      "2   飛寶企業第一季獲利1608萬元，每股稅後0.51元 - MoneyDJ理財網   \n",
      "3     東森購物網前4月EPS 5.96元，寫同期新高 - MoneyDJ理財網   \n",
      "4  長榮鋼第一季合併獲利3.43億元，每股稅後0.82元 - MoneyDJ理財網   \n",
      "\n",
      "                                                 url  \\\n",
      "0  https://www.moneydj.com/kmdj/news/newsviewer.a...   \n",
      "1  https://www.moneydj.com/kmdj/news/newsviewer.a...   \n",
      "2  https://www.moneydj.com/kmdj/news/newsviewer.a...   \n",
      "3  https://www.moneydj.com/kmdj/news/newsviewer.a...   \n",
      "4  https://www.moneydj.com/kmdj/news/newsviewer.a...   \n",
      "\n",
      "                    meta_keywords            crawling_time  \\\n",
      "0                              南帝  2022-05-09 06:23:47.643   \n",
      "1                              台端  2022-05-09 06:23:50.714   \n",
      "2                            飛寶企業  2022-05-09 06:23:53.508   \n",
      "3  Internet應用與服務 電商平台 倉儲／貨櫃場 運輸事業  2022-05-09 06:23:56.600   \n",
      "4                             長榮鋼  2022-05-09 06:24:00.067   \n",
      "\n",
      "                                             article         publish_time  \\\n",
      "0  公開資訊觀測站重大訊息公告(2108)南帝-公告本公司董事會通過111年第1季合併財務報告。...  2022-05-09 13:54:00   \n",
      "1  公開資訊觀測站重大訊息公告(3432)台端-公告董事會決議解除經理人競業禁止之限制案1.董事...  2022-05-09 13:54:00   \n",
      "2  公開資訊觀測站重大訊息公告(4413)飛寶企業-公告本公司董事會通過111年第一季財務報告1...  2022-05-09 13:54:00   \n",
      "3  MoneyDJ新聞 2022-05-09 13:51:56 記者 新聞中心 報導東森(261...  2022-05-09 13:51:00   \n",
      "4  公開資訊觀測站重大訊息公告(2211)長榮鋼-公告本公司董事會通過111年第一季合併財務報告...  2022-05-09 13:51:00   \n",
      "\n",
      "     media                article_id  \n",
      "0  MoneyDJ  2022-05-09-13-54-00-0297  \n",
      "1  MoneyDJ  2022-05-09-13-54-00-0131  \n",
      "2  MoneyDJ  2022-05-09-13-54-00-0378  \n",
      "3  MoneyDJ  2022-05-09-13-51-00-0317  \n",
      "4  MoneyDJ  2022-05-09-13-51-00-0568  \n",
      "\n",
      "(161, 8)\n",
      "                                     title  \\\n",
      "0   南帝第一季合併獲利5.78億元，每股稅後1.17元 - MoneyDJ理財網   \n",
      "1        台端董事會決議解除經理人競業禁止之限制案 - MoneyDJ理財網   \n",
      "2   飛寶企業第一季獲利1608萬元，每股稅後0.51元 - MoneyDJ理財網   \n",
      "3     東森購物網前4月EPS 5.96元，寫同期新高 - MoneyDJ理財網   \n",
      "4  長榮鋼第一季合併獲利3.43億元，每股稅後0.82元 - MoneyDJ理財網   \n",
      "\n",
      "                                                 url  \\\n",
      "0  https://www.moneydj.com/kmdj/news/newsviewer.a...   \n",
      "1  https://www.moneydj.com/kmdj/news/newsviewer.a...   \n",
      "2  https://www.moneydj.com/kmdj/news/newsviewer.a...   \n",
      "3  https://www.moneydj.com/kmdj/news/newsviewer.a...   \n",
      "4  https://www.moneydj.com/kmdj/news/newsviewer.a...   \n",
      "\n",
      "                    meta_keywords            crawling_time  \\\n",
      "0                              南帝  2022-05-09 06:23:47.643   \n",
      "1                              台端  2022-05-09 06:23:50.714   \n",
      "2                            飛寶企業  2022-05-09 06:23:53.508   \n",
      "3  Internet應用與服務 電商平台 倉儲／貨櫃場 運輸事業  2022-05-09 06:23:56.600   \n",
      "4                             長榮鋼  2022-05-09 06:24:00.067   \n",
      "\n",
      "                                             article         publish_time  \\\n",
      "0  公開資訊觀測站重大訊息公告(2108)南帝-公告本公司董事會通過111年第1季合併財務報告。...  2022-05-09 13:54:00   \n",
      "1  公開資訊觀測站重大訊息公告(3432)台端-公告董事會決議解除經理人競業禁止之限制案1.董事...  2022-05-09 13:54:00   \n",
      "2  公開資訊觀測站重大訊息公告(4413)飛寶企業-公告本公司董事會通過111年第一季財務報告1...  2022-05-09 13:54:00   \n",
      "3  MoneyDJ新聞 2022-05-09 13:51:56 記者 新聞中心 報導東森(261...  2022-05-09 13:51:00   \n",
      "4  公開資訊觀測站重大訊息公告(2211)長榮鋼-公告本公司董事會通過111年第一季合併財務報告...  2022-05-09 13:51:00   \n",
      "\n",
      "     media                article_id  \n",
      "0  MoneyDJ  2022-05-09-13-54-00-0297  \n",
      "1  MoneyDJ  2022-05-09-13-54-00-0131  \n",
      "2  MoneyDJ  2022-05-09-13-54-00-0378  \n",
      "3  MoneyDJ  2022-05-09-13-51-00-0317  \n",
      "4  MoneyDJ  2022-05-09-13-51-00-0568  \n"
     ]
    }
   ],
   "source": [
    "# 載入文章資料集\n",
    "article_filepath = \"AllNews-20220610.csv\"\n",
    "article_data = data_utils.load_article(article_filepath=article_filepath)\n",
    "\n",
    "# 進行文章前處理\n",
    "preprocessed_data = data_utils.do_preprocess(data=article_data)\n",
    "print(preprocessed_data.shape)\n",
    "print(preprocessed_data.head())\n"
   ]
  },
  {
   "cell_type": "markdown",
   "metadata": {},
   "source": [
    "#### (2) 事件三元組抽取\n",
    "示範對一篇文章進行事件抽取\n",
    "\n",
    "[Input] \n",
    "- format: `str`\n",
    "- 想要跑事件三元組抽取的文章\n",
    "\n",
    "[Output]\n",
    "- format: `dict`\n",
    "- 事件三元組的抽取結果"
   ]
  },
  {
   "cell_type": "code",
   "execution_count": 2,
   "metadata": {},
   "outputs": [],
   "source": [
    "# 對文本進行基於句法分依存分析的事件三元組標註\n",
    "from KGBuilder.EventTriplet.ltp import TripleExtractor, CausalityExractor\n",
    "triplet_extractor = TripleExtractor(model_tag=\"base2\")\n",
    "causality_extractor = CausalityExractor(model_tag=\"base2\")\n"
   ]
  },
  {
   "cell_type": "code",
   "execution_count": 15,
   "metadata": {},
   "outputs": [
    {
     "data": {
      "text/plain": [
       "'財政部今天公布 4 月出口金額為 414.6 億美元，年增 18.8%，連 22 紅；官員指出，儘管世界經濟遭遇逆風，台灣 4 月出口額仍在供應鏈瓶頸改善和遞延出貨效應等三大利多挹注下，創歷年單月第三高紀錄。展望後市，財政部表示，5月出口規模仍將超過400億美元，預估會落在419億至434億美元，年增率區間為12%~16%。（Source：財政部）財政部今天公布4月海關進出口貿易初步統計，4月出口金額為414.6億美元、年增18.8%，連22紅達陣，續寫史上正成長次長週期；進口金額為365.5億美元，為歷年單月次高，年增26.7%；累計1~4月出口1624億美元，較去年同期增22.3%。財政部統計處處長蔡美娜分析出口概況，今年2月底以來，全球地緣政治風險提高、中國疫情升溫，干擾世界經濟，但所幸台灣4月出口依然在科技創新與數位轉型潮流、供應鏈瓶頸改善和遞延出貨效應挹注，加上國際原物料行情上揚推升出口產品價格，三大有利因素加持下，展現相當活力。觀察出口前11個主要貨品項目，光學器材、塑橡膠及製品呈現年減格局，其餘9類貨品呈現成長；蔡美娜指出，光學器材出口約9.2億美元、年減15.6%，呈現連續6個月下降，出口規模跌到22個月低點，主因是面板供需結構偏弱、客戶端採購保守，造成價格跌幅擴大。電子零組件4月出口額達172.1億美元、年增27.5%，創單月第二高紀錄，連36紅，為史上第二長正成長週期；蔡美娜說明，主要是受到高效能運算、車用電子需求依然強勁，加上晶片漲價效益挹注。資通與視聽產品方面，4月出口51.88億美元、年增10.2%，但各地區表現有所落差，對美國出口依舊熱絡，但中國與香港、東協買氣不如以往；蔡美娜表示，可能與家庭端消費減弱、疫情紅利消退，中國經濟放緩和封控有關。至於傳統類貨品出口，以礦產品年增率達59.4%為最高，蔡美娜指出，主要是礦產品報價隨國際原油行情而水漲船高；運輸工具出口年增26.5%，在全球新車產能不足、近年健身概念提升下，間接帶動歐美地區汽車、腳踏車維修市場熱絡，擴大對相關零附件下單。基本金屬及製品4月出口33.44億美元，蔡美娜說，歐美買氣維持高檔，反映原物料成本上揚，出口年增26.1%；化學品受惠於價量齊揚，出口金額23.11億美元，刷新單月紀錄。展望後市，蔡美娜指出，5月工作天數增加，順季節性態樣推估，5月出口水準可站穩400億美元之上，預估落在419億至434億美元，年增率維持2位數，區間為12%~16%，有望看見史上最強5月以及歷年單月前2高。（作者：張璦；首圖來源：shutterstock）'"
      ]
     },
     "execution_count": 15,
     "metadata": {},
     "output_type": "execute_result"
    }
   ],
   "source": [
    "article = preprocessed_data[\"article\"][100]\n",
    "article\n"
   ]
  },
  {
   "cell_type": "code",
   "execution_count": 16,
   "metadata": {},
   "outputs": [
    {
     "data": {
      "text/plain": [
       "[['財政部', '公布', '4 月出口金額為414.6 億美元年增18.8%'],\n",
       " ['4 月出口金額', '為', '414.6 億美元'],\n",
       " ['4 月出口金額', '增', '18.8%'],\n",
       " ['官員', '指出', '儘管世界經濟遭遇逆風台灣4 月出口額仍在供應鏈瓶頸改善和遞延出貨效應三大利多挹注下創歷年單月第三高紀錄'],\n",
       " ['世界經濟', '遭遇', '逆風'],\n",
       " ['台灣4 月出口額', '創', '歷年單月第三高紀錄'],\n",
       " ['財政部', '表示', '5月出口規模仍將超過400億美元預估會落在419億至434億美元年增率區間為12%16%'],\n",
       " ['出口規模', '超過', '400億美元'],\n",
       " ['年增率區間', '為', '12%16%'],\n",
       " ['財政部', '公布', '4月海關進出口貿易初步統計'],\n",
       " ['4月出口金額', '為', '414.6億美元'],\n",
       " ['4月出口金額', '增', '18.8%'],\n",
       " ['進口金額', '為', '365.5億美元'],\n",
       " ['進口金額', '為', '歷年單月次高'],\n",
       " ['財政部統計處處長蔡美娜', '分析', '出口概況'],\n",
       " ['光學器材塑橡膠及製品', '呈現', '年減格局'],\n",
       " ['其餘9類貨品', '呈現', '成長'],\n",
       " ['蔡美娜',\n",
       "  '指出',\n",
       "  '光學器材出口約9.2億美元年減15.6%呈現連續6個月下降出口規模跌到22個月低點主因是面板供需結構偏弱客戶端採購保守造成價格跌幅擴大'],\n",
       " ['光學器材出口', '呈現', '連續6個月下降'],\n",
       " ['出口規模', '跌', '22個月低點'],\n",
       " ['主因', '是', '面板供需結構偏弱客戶端採購保守造成價格跌幅擴大'],\n",
       " ['電子零組件4月出口額', '達', '172.1億美元'],\n",
       " ['電子零組件4月出口額', '創', '單月第二高紀錄'],\n",
       " ['電子零組件4月出口額', '為', '史上第二長正成長週期'],\n",
       " ['蔡美娜', '說明', '主要是受到高效能運算車用電子需求依然強勁加上晶片漲價效益挹注'],\n",
       " ['各地區表現', '有所', '落差'],\n",
       " ['蔡美娜', '表示', '可能與家庭端消費減弱疫情紅利消退中國經濟放緩和封控有關'],\n",
       " ['礦產品年增率', '達', '59.4%'],\n",
       " ['蔡美娜', '指出', '主要是礦產品報價隨國際原油行情而水漲船高'],\n",
       " ['蔡美娜', '說', '歐美買氣維持高檔反映原物料成本上揚出口年增26.1%'],\n",
       " ['歐美買氣維持高檔', '反映', '原物料成本上揚'],\n",
       " ['出口', '年增', '26.1%'],\n",
       " ['化學品', '受惠', '於價量齊揚'],\n",
       " ['蔡美娜',\n",
       "  '指出',\n",
       "  '5月工作天數增加順季節性態樣推估5月出口水準可站穩400億美元之上預估落在419億至434億美元年增率維持2位數區間為12%16%有望看見史上最強5月以及歷年單月前2高'],\n",
       " ['5月出口水準', '站穩', '在419億至434億美元'],\n",
       " ['區間', '為', '12%16%']]"
      ]
     },
     "execution_count": 16,
     "metadata": {},
     "output_type": "execute_result"
    }
   ],
   "source": [
    "# 進行事件三元組抽取\n",
    "triplets = triplet_extractor.triples_main(article)\n",
    "triplets"
   ]
  },
  {
   "cell_type": "code",
   "execution_count": 18,
   "metadata": {},
   "outputs": [
    {
     "data": {
      "text/plain": [
       "[['6%，呈現連續6個月下降，出口規模跌到22個月低點，主因是面板供需結構偏弱、客戶端採購保守，', '造成', '價格跌幅擴大。']]"
      ]
     },
     "execution_count": 18,
     "metadata": {},
     "output_type": "execute_result"
    }
   ],
   "source": [
    "_causalities = causality_extractor.extract_main(article)\n",
    "causalities = []\n",
    "for _cau in _causalities:\n",
    "    cause = ''.join([word.split('/')[0] for word in _cau['cause'].split(' ') if word.split('/')[0]])\n",
    "    tag = _cau[\"tag\"]\n",
    "    effect = ''.join([word.split('/')[0] for word in _cau['effect'].split(' ') if word.split('/')[0]])\n",
    "    causalities.append([cause, tag, effect])\n",
    "\n",
    "causalities"
   ]
  },
  {
   "cell_type": "markdown",
   "metadata": {},
   "source": [
    "#### (3) 實體抽取\n",
    "1. 先從 GCS 下載 DST 訓練的 `FiNER` 模型及 token class schema\n",
    "2. 就文本進行 `CKIPWrapper` NER 實體標註\n",
    "3. 就文本進行 `FiNER` NER 實體標註\n",
    "\n",
    "[Input]\n",
    "- format: `str`\n",
    "- 要進行實體抽取的文本\n",
    "\n",
    "[Output]\n",
    "- format: `dict`\n",
    "- 實體抽取的分類結果\n"
   ]
  },
  {
   "cell_type": "code",
   "execution_count": 19,
   "metadata": {},
   "outputs": [
    {
     "name": "stdout",
     "output_type": "stream",
     "text": [
      "Downloading model from GCS Bucket kgbuilder_models/bert-base-chinese...\n"
     ]
    },
    {
     "name": "stderr",
     "output_type": "stream",
     "text": [
      "5it [00:00, 123.91it/s]\n"
     ]
    },
    {
     "name": "stdout",
     "output_type": "stream",
     "text": [
      "bert-base-chinese/bert_model.ckpt.data-00000-of-00001 exists, please check before download again\n",
      "bert-base-chinese/bert_model.ckpt.index exists, please check before download again\n",
      "bert-base-chinese/bert_model.ckpt.meta exists, please check before download again\n",
      "bert-base-chinese/config.json exists, please check before download again\n",
      "bert-base-chinese/vocab.txt exists, please check before download again\n",
      "Files download to bert-base-chinese successfully.\n",
      "Downloading model from GCS Bucket kgbuilder_models/FiNER...\n"
     ]
    },
    {
     "name": "stderr",
     "output_type": "stream",
     "text": [
      "3it [00:00, 96.76it/s]"
     ]
    },
    {
     "name": "stdout",
     "output_type": "stream",
     "text": [
      "FiNER/config.json exists, please check before download again\n",
      "FiNER/pytorch_model.bin exists, please check before download again\n",
      "FiNER/training_config.bin exists, please check before download again\n",
      "Files download to FiNER successfully.\n"
     ]
    },
    {
     "name": "stderr",
     "output_type": "stream",
     "text": [
      "\n"
     ]
    }
   ],
   "source": [
    "# 從 GCS 下載模型至本地端(原始的 bert-base-chinese 以及 已訓練好的 FiNER & FinRE)\n",
    "from KGBuilder.data_utils import gcs_downloader\n",
    "for model_dir in [\"baseBert\", \"FiNER\"]:\n",
    "    download_to_dir = gcs_args[f\"local_model_dir_{model_dir}\"]\n",
    "    source_dir = os.path.join(gcs_args[\"gcs_model_directory\"], download_to_dir)\n",
    "    gcs_downloader(source_dir, download_to_dir)\n",
    "\n",
    "# 將 FiNER 所需的 slot_label.txt 從 dictionary 資料夾移過來\n",
    "filename = \"slot_label.txt\"\n",
    "if not os.path.exists(os.path.join(args[\"model_dir\"], \"input\", filename)):\n",
    "    shutil.copyfile(\n",
    "        os.path.join(gcs_args[\"gcs_dict_directory\"], filename), \n",
    "        os.path.join(args[\"model_dir\"], \"input\", filename)\n",
    "    )\n"
   ]
  },
  {
   "cell_type": "code",
   "execution_count": 23,
   "metadata": {},
   "outputs": [
    {
     "name": "stderr",
     "output_type": "stream",
     "text": [
      "2022-06-13 00:08:39.665381: I tensorflow/stream_executor/cuda/cuda_gpu_executor.cc:937] successful NUMA node read from SysFS had negative value (-1), but there must be at least one NUMA node, so returning NUMA node zero\n",
      "2022-06-13 00:08:39.666074: I tensorflow/stream_executor/cuda/cuda_gpu_executor.cc:937] successful NUMA node read from SysFS had negative value (-1), but there must be at least one NUMA node, so returning NUMA node zero\n",
      "2022-06-13 00:08:39.667039: I tensorflow/stream_executor/cuda/cuda_gpu_executor.cc:937] successful NUMA node read from SysFS had negative value (-1), but there must be at least one NUMA node, so returning NUMA node zero\n",
      "2022-06-13 00:08:39.667570: I tensorflow/stream_executor/cuda/cuda_gpu_executor.cc:937] successful NUMA node read from SysFS had negative value (-1), but there must be at least one NUMA node, so returning NUMA node zero\n",
      "2022-06-13 00:08:39.668508: I tensorflow/stream_executor/cuda/cuda_gpu_executor.cc:937] successful NUMA node read from SysFS had negative value (-1), but there must be at least one NUMA node, so returning NUMA node zero\n",
      "2022-06-13 00:08:39.669000: I tensorflow/stream_executor/cuda/cuda_gpu_executor.cc:937] successful NUMA node read from SysFS had negative value (-1), but there must be at least one NUMA node, so returning NUMA node zero\n",
      "2022-06-13 00:08:39.670028: I tensorflow/stream_executor/cuda/cuda_gpu_executor.cc:937] successful NUMA node read from SysFS had negative value (-1), but there must be at least one NUMA node, so returning NUMA node zero\n",
      "2022-06-13 00:08:39.670563: I tensorflow/stream_executor/cuda/cuda_gpu_executor.cc:937] successful NUMA node read from SysFS had negative value (-1), but there must be at least one NUMA node, so returning NUMA node zero\n",
      "2022-06-13 00:08:39.671552: I tensorflow/stream_executor/cuda/cuda_gpu_executor.cc:937] successful NUMA node read from SysFS had negative value (-1), but there must be at least one NUMA node, so returning NUMA node zero\n",
      "2022-06-13 00:08:39.672057: I tensorflow/core/common_runtime/gpu/gpu_device.cc:1510] Created device /job:localhost/replica:0/task:0/device:GPU:0 with 8692 MB memory:  -> device: 0, name: Tesla T4, pci bus id: 0000:00:04.0, compute capability: 7.5\n",
      "2022-06-13 00:08:39.672185: I tensorflow/stream_executor/cuda/cuda_gpu_executor.cc:937] successful NUMA node read from SysFS had negative value (-1), but there must be at least one NUMA node, so returning NUMA node zero\n",
      "2022-06-13 00:08:39.673040: I tensorflow/core/common_runtime/gpu/gpu_device.cc:1510] Created device /job:localhost/replica:0/task:0/device:GPU:1 with 12144 MB memory:  -> device: 1, name: Tesla T4, pci bus id: 0000:00:05.0, compute capability: 7.5\n",
      "2022-06-13 00:08:46.936321: I tensorflow/stream_executor/cuda/cuda_gpu_executor.cc:937] successful NUMA node read from SysFS had negative value (-1), but there must be at least one NUMA node, so returning NUMA node zero\n",
      "2022-06-13 00:08:46.937173: I tensorflow/stream_executor/cuda/cuda_gpu_executor.cc:937] successful NUMA node read from SysFS had negative value (-1), but there must be at least one NUMA node, so returning NUMA node zero\n",
      "2022-06-13 00:08:46.938268: I tensorflow/stream_executor/cuda/cuda_gpu_executor.cc:937] successful NUMA node read from SysFS had negative value (-1), but there must be at least one NUMA node, so returning NUMA node zero\n",
      "2022-06-13 00:08:46.938907: I tensorflow/stream_executor/cuda/cuda_gpu_executor.cc:937] successful NUMA node read from SysFS had negative value (-1), but there must be at least one NUMA node, so returning NUMA node zero\n",
      "2022-06-13 00:08:46.939999: I tensorflow/stream_executor/cuda/cuda_gpu_executor.cc:937] successful NUMA node read from SysFS had negative value (-1), but there must be at least one NUMA node, so returning NUMA node zero\n",
      "2022-06-13 00:08:46.940616: I tensorflow/stream_executor/cuda/cuda_gpu_executor.cc:937] successful NUMA node read from SysFS had negative value (-1), but there must be at least one NUMA node, so returning NUMA node zero\n",
      "2022-06-13 00:08:46.941892: I tensorflow/stream_executor/cuda/cuda_gpu_executor.cc:937] successful NUMA node read from SysFS had negative value (-1), but there must be at least one NUMA node, so returning NUMA node zero\n",
      "2022-06-13 00:08:46.942523: I tensorflow/stream_executor/cuda/cuda_gpu_executor.cc:937] successful NUMA node read from SysFS had negative value (-1), but there must be at least one NUMA node, so returning NUMA node zero\n",
      "2022-06-13 00:08:46.943561: I tensorflow/stream_executor/cuda/cuda_gpu_executor.cc:937] successful NUMA node read from SysFS had negative value (-1), but there must be at least one NUMA node, so returning NUMA node zero\n",
      "2022-06-13 00:08:46.944063: I tensorflow/core/common_runtime/gpu/gpu_device.cc:1510] Created device /job:localhost/replica:0/task:0/device:GPU:0 with 8692 MB memory:  -> device: 0, name: Tesla T4, pci bus id: 0000:00:04.0, compute capability: 7.5\n",
      "2022-06-13 00:08:46.944245: I tensorflow/stream_executor/cuda/cuda_gpu_executor.cc:937] successful NUMA node read from SysFS had negative value (-1), but there must be at least one NUMA node, so returning NUMA node zero\n",
      "2022-06-13 00:08:46.945139: I tensorflow/core/common_runtime/gpu/gpu_device.cc:1510] Created device /job:localhost/replica:0/task:0/device:GPU:1 with 12144 MB memory:  -> device: 1, name: Tesla T4, pci bus id: 0000:00:05.0, compute capability: 7.5\n",
      "2022-06-13 00:08:53.481942: I tensorflow/stream_executor/cuda/cuda_gpu_executor.cc:937] successful NUMA node read from SysFS had negative value (-1), but there must be at least one NUMA node, so returning NUMA node zero\n",
      "2022-06-13 00:08:53.482511: I tensorflow/stream_executor/cuda/cuda_gpu_executor.cc:937] successful NUMA node read from SysFS had negative value (-1), but there must be at least one NUMA node, so returning NUMA node zero\n",
      "2022-06-13 00:08:53.483248: I tensorflow/stream_executor/cuda/cuda_gpu_executor.cc:937] successful NUMA node read from SysFS had negative value (-1), but there must be at least one NUMA node, so returning NUMA node zero\n",
      "2022-06-13 00:08:53.483661: I tensorflow/stream_executor/cuda/cuda_gpu_executor.cc:937] successful NUMA node read from SysFS had negative value (-1), but there must be at least one NUMA node, so returning NUMA node zero\n",
      "2022-06-13 00:08:53.484339: I tensorflow/stream_executor/cuda/cuda_gpu_executor.cc:937] successful NUMA node read from SysFS had negative value (-1), but there must be at least one NUMA node, so returning NUMA node zero\n",
      "2022-06-13 00:08:53.484723: I tensorflow/stream_executor/cuda/cuda_gpu_executor.cc:937] successful NUMA node read from SysFS had negative value (-1), but there must be at least one NUMA node, so returning NUMA node zero\n",
      "2022-06-13 00:08:53.485522: I tensorflow/stream_executor/cuda/cuda_gpu_executor.cc:937] successful NUMA node read from SysFS had negative value (-1), but there must be at least one NUMA node, so returning NUMA node zero\n",
      "2022-06-13 00:08:53.485940: I tensorflow/stream_executor/cuda/cuda_gpu_executor.cc:937] successful NUMA node read from SysFS had negative value (-1), but there must be at least one NUMA node, so returning NUMA node zero\n",
      "2022-06-13 00:08:53.486648: I tensorflow/stream_executor/cuda/cuda_gpu_executor.cc:937] successful NUMA node read from SysFS had negative value (-1), but there must be at least one NUMA node, so returning NUMA node zero\n",
      "2022-06-13 00:08:53.487011: I tensorflow/core/common_runtime/gpu/gpu_device.cc:1510] Created device /job:localhost/replica:0/task:0/device:GPU:0 with 8692 MB memory:  -> device: 0, name: Tesla T4, pci bus id: 0000:00:04.0, compute capability: 7.5\n",
      "2022-06-13 00:08:53.487121: I tensorflow/stream_executor/cuda/cuda_gpu_executor.cc:937] successful NUMA node read from SysFS had negative value (-1), but there must be at least one NUMA node, so returning NUMA node zero\n",
      "2022-06-13 00:08:53.487811: I tensorflow/core/common_runtime/gpu/gpu_device.cc:1510] Created device /job:localhost/replica:0/task:0/device:GPU:1 with 12144 MB memory:  -> device: 1, name: Tesla T4, pci bus id: 0000:00:05.0, compute capability: 7.5\n",
      "Tokenization: 100%|██████████| 1/1 [00:00<00:00, 6647.07it/s]\n",
      "Inference: 100%|██████████| 1/1 [00:00<00:00, 75.44it/s]\n",
      "100%|██████████| 1/1 [00:00<00:00, 14074.85it/s]\n"
     ]
    },
    {
     "data": {
      "text/plain": [
       "{'PERCENT': ['18.8%'], 'ORG': ['財政部']}"
      ]
     },
     "execution_count": 23,
     "metadata": {},
     "output_type": "execute_result"
    }
   ],
   "source": [
    "# 初始化 CKIP 模型服務\n",
    "\"\"\"\n",
    "    CKIPWrapper 是 DST Abao 將 CKIPTagger 及 CKIP Transformers 打包合併的服務\n",
    "    目前接口提供 NER 模型的呼叫\n",
    "    （將 CKIPTagger 及 CKIP Transformers 兩者的 NER 結果聯集後返回）\n",
    "\"\"\"\n",
    "\n",
    "from KGBuilder.ckipNER.ckip import CKIPWrapper\n",
    "ckip = CKIPWrapper()"
   ]
  },
  {
   "cell_type": "code",
   "execution_count": 25,
   "metadata": {},
   "outputs": [
    {
     "name": "stderr",
     "output_type": "stream",
     "text": [
      "Tokenization: 100%|██████████| 1/1 [00:00<00:00, 369.38it/s]\n",
      "Inference: 100%|██████████| 1/1 [00:00<00:00,  8.20it/s]\n",
      "100%|██████████| 1/1 [00:00<00:00, 3919.91it/s]\n"
     ]
    },
    {
     "data": {
      "text/plain": [
       "{'CARDINAL': ['2', '9', '36', '11', '22', '三'],\n",
       " 'MONEY': ['1624億美元',\n",
       "  '9.2億美元',\n",
       "  '172.1億美元',\n",
       "  '23.11億美元',\n",
       "  '419億至434億美元',\n",
       "  '33.44億美元',\n",
       "  '414.6 億美元',\n",
       "  '414.6億美元',\n",
       "  '365.5億美元',\n",
       "  '400億美元',\n",
       "  '51.88億美元',\n",
       "  '22紅'],\n",
       " 'ORG': ['財政部統計處', 'Source', '財政部', '東協'],\n",
       " 'DATE': ['5月',\n",
       "  '4月',\n",
       "  '今天',\n",
       "  '4 月',\n",
       "  '單月',\n",
       "  '6個月',\n",
       "  '去年',\n",
       "  '22個月',\n",
       "  '1~4月',\n",
       "  '2月底',\n",
       "  '今年2月底'],\n",
       " 'ORDINAL': ['第二', '第三'],\n",
       " 'GPE': ['台灣', '美', '美國', '中國', '香港', '歐'],\n",
       " 'PERCENT': ['12%',\n",
       "  '26.5%',\n",
       "  '18.8%',\n",
       "  '10.2%',\n",
       "  '26.1%',\n",
       "  '15.6%',\n",
       "  '12%~16%',\n",
       "  '27.5%',\n",
       "  '26.7%',\n",
       "  '59.4%',\n",
       "  '22.3%',\n",
       "  '16%'],\n",
       " 'PERSON': ['蔡美娜', '張璦'],\n",
       " 'LOC': ['歐美', '歐'],\n",
       " 'NORP': ['歐']}"
      ]
     },
     "execution_count": 25,
     "metadata": {},
     "output_type": "execute_result"
    }
   ],
   "source": [
    "# 執行 CKIPWrapper NER 實體抽取\n",
    "input_text = triplets[0]\n",
    "_res_ckip = ckip.ner_predict(input_text=[article])[0][\"entity_text\"]\n",
    "_res_ckip"
   ]
  },
  {
   "cell_type": "code",
   "execution_count": 27,
   "metadata": {},
   "outputs": [],
   "source": [
    "# 初始化 FiNER 模型\n",
    "from KGBuilder.FiNER.args import Args\n",
    "args_finer = Args()\n",
    "from KGBuilder.FiNER.trainer import FiNER\n",
    "from KGBuilder.FiNER.utils import (\n",
    "    init_logger,\n",
    "    load_tokenizer,\n",
    "    set_seed,\n",
    ")\n",
    "args_finer.do_pred = True  # 指定模式為：預測\n",
    "args_finer.use_crf = True  # 指定使用 CRF layer\n",
    "args_finer.task = \"input\"  # token class schema file 位在的資料夾名稱\n",
    "args_finer.model_dir = \"FiNER\"\n",
    "\n",
    "set_seed(args_finer)  # 隨機亂數初始化\n",
    "tokenizer = load_tokenizer(args_finer)  # 載入 bert tokenizer (original BERT)\n",
    "finer = FiNER(args_finer)  # 參數初始化\n",
    "finer.load_model()  # 載入 FiNER 模型\n"
   ]
  },
  {
   "cell_type": "code",
   "execution_count": 29,
   "metadata": {},
   "outputs": [
    {
     "name": "stdout",
     "output_type": "stream",
     "text": [
      "torch.Size([1, 200])\n"
     ]
    },
    {
     "name": "stderr",
     "output_type": "stream",
     "text": [
      "Predicting: 100%|██████████| 1/1 [00:00<00:00, 17.77it/s]\n"
     ]
    },
    {
     "name": "stdout",
     "output_type": "stream",
     "text": [
      "finished prediction!!!\n"
     ]
    },
    {
     "name": "stderr",
     "output_type": "stream",
     "text": [
      "1it [00:00, 1141.31it/s]\n",
      "100%|██████████| 1/1 [00:00<00:00, 11748.75it/s]"
     ]
    },
    {
     "name": "stdout",
     "output_type": "stream",
     "text": [
      "json file has stored.\n"
     ]
    },
    {
     "name": "stderr",
     "output_type": "stream",
     "text": [
      "\n"
     ]
    },
    {
     "data": {
      "text/plain": [
       "{'ORG': ['財政部'],\n",
       " 'ART': [],\n",
       " 'OTH': ['出口金額',\n",
       "  '世界經濟',\n",
       "  '逆風',\n",
       "  '出口額',\n",
       "  '供應鏈瓶頸',\n",
       "  '遞延',\n",
       "  '效應',\n",
       "  '紀錄',\n",
       "  '後市',\n",
       "  '出口規模',\n",
       "  '年增率',\n",
       "  'Source',\n",
       "  '貿易'],\n",
       " 'EVENT': [],\n",
       " 'PRODUCT': []}"
      ]
     },
     "execution_count": 29,
     "metadata": {},
     "output_type": "execute_result"
    }
   ],
   "source": [
    "# 先將文章 tokenize\n",
    "text_tokens = \" \".join([word for word in article])\n",
    "_res_finer = finer.predict([text_tokens], tokenizer)[0][\"entity_text\"]\n",
    "# 整理名稱\n",
    "_res_finer[\"EVENT\"] = _res_finer.pop(\"EVE\")\n",
    "_res_finer[\"PRODUCT\"] = _res_finer.pop(\"GOO\")\n",
    "\n",
    "_res_finer\n"
   ]
  },
  {
   "cell_type": "code",
   "execution_count": null,
   "metadata": {},
   "outputs": [],
   "source": []
  }
 ],
 "metadata": {
  "interpreter": {
   "hash": "bab63c928d38a9228385d19ae2a5725cfa317b3fb32051b4a4dbc41f78875585"
  },
  "kernelspec": {
   "display_name": "Python 3.8.12 ('test_finkg_1': conda)",
   "language": "python",
   "name": "python3"
  },
  "language_info": {
   "codemirror_mode": {
    "name": "ipython",
    "version": 3
   },
   "file_extension": ".py",
   "mimetype": "text/x-python",
   "name": "python",
   "nbconvert_exporter": "python",
   "pygments_lexer": "ipython3",
   "version": "3.8.12"
  },
  "orig_nbformat": 4
 },
 "nbformat": 4,
 "nbformat_minor": 2
}
