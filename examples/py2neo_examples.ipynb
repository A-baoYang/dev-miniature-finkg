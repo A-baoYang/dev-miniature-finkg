{
 "cells": [
  {
   "cell_type": "code",
   "execution_count": 2,
   "metadata": {},
   "outputs": [],
   "source": [
    "import os\n",
    "from py2neo import Node, NodeMatcher, Graph, Relationship, RelationshipMatcher\n",
    "\n",
    "from KGBuilder.config import *\n",
    "from KGBuilder import neo4j\n"
   ]
  },
  {
   "cell_type": "markdown",
   "metadata": {},
   "source": [
    "### 在 Neo4j 介面下 query 新增一個測試用資料庫\n",
    "```\n",
    "> CREATE DATABASE \"yourdbname\"\n",
    "```"
   ]
  },
  {
   "cell_type": "code",
   "execution_count": 3,
   "metadata": {},
   "outputs": [],
   "source": [
    "# arguments\n",
    "\n",
    "args[\"root_dir\"] = os.getcwd()\n",
    "MODEL_DIR = args[\"model_dir\"]\n",
    "account_args[\"neo4j_hostname\"] = \"10.0.10.6\"\n",
    "account_args[\"neo4j_username\"] = \"neo4j\"\n",
    "account_args[\"neo4j_password\"] = \"neo4jj\"\n",
    "account_args[\"neo4j_database\"] = \"eventkg\"\n"
   ]
  },
  {
   "cell_type": "markdown",
   "metadata": {},
   "source": [
    "### 測試連線、查找節點與關係"
   ]
  },
  {
   "cell_type": "code",
   "execution_count": 4,
   "metadata": {},
   "outputs": [],
   "source": [
    "# 資料庫連線\n",
    "graph = Graph(\n",
    "    host=account_args[\"neo4j_hostname\"], \n",
    "    auth=(account_args[\"neo4j_username\"], account_args[\"neo4j_password\"]), \n",
    "    name=account_args[\"neo4j_database\"]\n",
    ")"
   ]
  },
  {
   "cell_type": "code",
   "execution_count": 5,
   "metadata": {},
   "outputs": [],
   "source": [
    "# 比對工具\n",
    "node_matcher = NodeMatcher(graph)\n",
    "rel_matcher = RelationshipMatcher(graph)"
   ]
  },
  {
   "cell_type": "code",
   "execution_count": 6,
   "metadata": {},
   "outputs": [
    {
     "data": {
      "text/plain": [
       "Node('EVENT_HEAD', name='亞洲半導體廠商')"
      ]
     },
     "execution_count": 6,
     "metadata": {},
     "output_type": "execute_result"
    }
   ],
   "source": [
    "# 節點搜尋\n",
    "ent1 = {\"type\": \"EVENT_HEAD\", \"name\": \"亞洲半導體廠商\"}\n",
    "ent1_node = node_matcher.match(ent1[\"type\"], name=ent1[\"name\"]).first()\n",
    "ent1_node"
   ]
  },
  {
   "cell_type": "code",
   "execution_count": 7,
   "metadata": {},
   "outputs": [
    {
     "data": {
      "text/plain": [
       "[採用(Node('EVENT_HEAD', name='亞洲半導體廠商'), Node('EVENT_TAIL', name='極紫外光曝光機台'), event_sentiment=-0.074, event_tfidf=4.465)]"
      ]
     },
     "execution_count": 7,
     "metadata": {},
     "output_type": "execute_result"
    }
   ],
   "source": [
    "ent1 = {\"type\": \"EVENT_HEAD\", \"name\": \"亞洲半導體廠商\"}\n",
    "rel = {\"type\": \"採用\"}\n",
    "ent2 = {\"type\": \"EVENT_TAIL\", \"name\": \"極紫外光曝光機台\"}\n",
    "\n",
    "ent1_rels = list(rel_matcher.match(\n",
    "    nodes=[ent1_node],\n",
    "    r_type=rel[\"type\"]\n",
    "))\n",
    "ent1_rels"
   ]
  },
  {
   "cell_type": "code",
   "execution_count": 8,
   "metadata": {},
   "outputs": [
    {
     "data": {
      "text/plain": [
       "[採用(Node('EVENT_HEAD', name='亞洲半導體廠商'), Node('EVENT_TAIL', name='極紫外光曝光機台'), event_sentiment=-0.074, event_tfidf=4.465),\n",
       " 進入(Node('EVENT_HEAD', name='亞洲半導體廠商'), Node('EVENT_TAIL', name='7奈米以下先進製程階段'), event_sentiment=-0.045, event_tfidf=4.014),\n",
       " 涉及(Node('EVENT_HEAD', name='亞洲半導體廠商'), Node('LOC', entity_sentiment=-0.072, entity_tfidf=6.515, name='亞洲')),\n",
       " 涉及(Node('EVENT_HEAD', name='亞洲半導體廠商'), Node('OTH', entity_sentiment=0.027, entity_tfidf=0.0, name='導體')),\n",
       " 涉及(Node('EVENT_HEAD', name='亞洲半導體廠商'), Node('OTH', entity_sentiment=0.004, entity_tfidf=0.0, name='導體廠')),\n",
       " 涉及(Node('EVENT_HEAD', name='亞洲半導體廠商'), Node('ORG', entity_sentiment=-0.076, entity_tfidf=8.271, name='亞洲半導體廠')),\n",
       " 具有(Node('EVENT_HEAD', name='亞洲半導體廠商'), Node('EVENT_TAIL', name='價格談判實力'), event_sentiment=-0.074, event_tfidf=4.352)]"
      ]
     },
     "execution_count": 8,
     "metadata": {},
     "output_type": "execute_result"
    }
   ],
   "source": [
    "ent1_rels = list(rel_matcher.match(\n",
    "    nodes=[ent1_node],\n",
    "    r_type=None\n",
    "))\n",
    "ent1_rels"
   ]
  },
  {
   "cell_type": "code",
   "execution_count": null,
   "metadata": {},
   "outputs": [],
   "source": [
    "# Load data\n",
    "filepath = \"\"\n",
    "\n",
    "data = ..."
   ]
  },
  {
   "cell_type": "code",
   "execution_count": null,
   "metadata": {},
   "outputs": [],
   "source": [
    "# KGBuilder Neo4j function usage\n",
    "\n",
    "# 連線到資料庫\n",
    "connection = neo4j.DataToNeo4j(\n",
    "    host=account_args[\"neo4j_hostname\"],\n",
    "    username=account_args[\"neo4j_username\"],\n",
    "    password=account_args[\"neo4j_password\"],\n",
    "    database=account_args[\"neo4j_database\"],\n",
    ")"
   ]
  },
  {
   "cell_type": "code",
   "execution_count": null,
   "metadata": {},
   "outputs": [],
   "source": [
    "# 節點構成\n",
    "ent_node = Node(type, name=name) \n",
    "# 其他屬性可以用字典方式新增\n",
    "ent_node[\"title\"] = \"...\""
   ]
  },
  {
   "cell_type": "code",
   "execution_count": null,
   "metadata": {},
   "outputs": [],
   "source": [
    "# 關係三元組構成\n",
    "rel = Relationship(\n",
    "    node_matcher.match(type, name=name).first(),\n",
    "    rel[\"type\"],\n",
    "    node_matcher.match(type, name=name).first()\n",
    ")\n",
    "# 其他屬性可以用字典方式新增\n",
    "rel[\"date\"] = \"20220109T224512\""
   ]
  },
  {
   "cell_type": "code",
   "execution_count": null,
   "metadata": {},
   "outputs": [],
   "source": [
    "# 新增節點\n",
    "\n",
    "ent1 = {\"type\": \"EVENT_HEAD\", \"name\": \"亞洲半導體廠商\"}\n",
    "connection.create_node(ent1)\n",
    "\n",
    "# 如果節點已存在 會跳過不重建 只針對節點內屬性不同處更新"
   ]
  },
  {
   "cell_type": "code",
   "execution_count": null,
   "metadata": {},
   "outputs": [],
   "source": [
    "# 新增關係\n",
    "ent1 = {\"type\": \"EVENT_HEAD\", \"name\": \"亞洲半導體廠商\"}\n",
    "rel = {\"type\": \"採用\"}\n",
    "ent2 = {\"type\": \"EVENT_TAIL\", \"name\": \"極紫外光曝光機台\"}\n",
    "\n",
    "connection.create_relation(ent1, ent2, rel)\n",
    "\n",
    "# 如果關係中的節點已存在 會跳過不重建 反之則會先建立節點\n",
    "# P.S. 關係屬性更新功能 會在下一版 KGBuilder 加入"
   ]
  }
 ],
 "metadata": {
  "interpreter": {
   "hash": "d7f521a0181281a30bb3a8083cda0ac3478dc819c0de49e23f8f755c0f313533"
  },
  "kernelspec": {
   "display_name": "Python 3.8.12 ('finKG_py38': conda)",
   "language": "python",
   "name": "python3"
  },
  "language_info": {
   "codemirror_mode": {
    "name": "ipython",
    "version": 3
   },
   "file_extension": ".py",
   "mimetype": "text/x-python",
   "name": "python",
   "nbconvert_exporter": "python",
   "pygments_lexer": "ipython3",
   "version": "3.8.12"
  },
  "orig_nbformat": 4
 },
 "nbformat": 4,
 "nbformat_minor": 2
}
